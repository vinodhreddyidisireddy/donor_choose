{
  "nbformat": 4,
  "nbformat_minor": 0,
  "metadata": {
    "kernelspec": {
      "display_name": "Python 3",
      "language": "python",
      "name": "python3"
    },
    "language_info": {
      "codemirror_mode": {
        "name": "ipython",
        "version": 3
      },
      "file_extension": ".py",
      "mimetype": "text/x-python",
      "name": "python",
      "nbconvert_exporter": "python",
      "pygments_lexer": "ipython3",
      "version": "3.6.3"
    },
    "colab": {
      "name": "lstm+donor+choose.ipynb",
      "provenance": []
    }
  },
  "cells": [
    {
      "cell_type": "markdown",
      "metadata": {
        "id": "4pjIglGb9w3T"
      },
      "source": [
        "# DonorsChoose"
      ]
    },
    {
      "cell_type": "markdown",
      "metadata": {
        "id": "oL3a-QFe9w3d"
      },
      "source": [
        "<p>\n",
        "DonorsChoose.org receives hundreds of thousands of project proposals each year for classroom projects in need of funding. Right now, a large number of volunteers is needed to manually screen each submission before it's approved to be posted on the DonorsChoose.org website.\n",
        "</p>\n",
        "<p>\n",
        "    Next year, DonorsChoose.org expects to receive close to 500,000 project proposals. As a result, there are three main problems they need to solve:\n",
        "<ul>\n",
        "<li>\n",
        "    How to scale current manual processes and resources to screen 500,000 projects so that they can be posted as quickly and as efficiently as possible</li>\n",
        "    <li>How to increase the consistency of project vetting across different volunteers to improve the experience for teachers</li>\n",
        "    <li>How to focus volunteer time on the applications that need the most assistance</li>\n",
        "    </ul>\n",
        "</p>    \n",
        "<p>\n",
        "The goal of the competition is to predict whether or not a DonorsChoose.org project proposal submitted by a teacher will be approved, using the text of project descriptions as well as additional metadata about the project, teacher, and school. DonorsChoose.org can then use this information to identify projects most likely to need further review before approval.\n",
        "</p>"
      ]
    },
    {
      "cell_type": "markdown",
      "metadata": {
        "id": "0ib65a5p9w3h"
      },
      "source": [
        "## About the DonorsChoose Data Set\n",
        "\n",
        "The `train.csv` data set provided by DonorsChoose contains the following features:\n",
        "\n",
        "Feature | Description \n",
        "----------|---------------\n",
        "**`project_id`** | A unique identifier for the proposed project. **Example:** `p036502`   \n",
        "**`project_title`**    | Title of the project. **Examples:**<br><ul><li><code>Art Will Make You Happy!</code></li><li><code>First Grade Fun</code></li></ul> \n",
        "**`project_grade_category`** | Grade level of students for which the project is targeted. One of the following enumerated values: <br/><ul><li><code>Grades PreK-2</code></li><li><code>Grades 3-5</code></li><li><code>Grades 6-8</code></li><li><code>Grades 9-12</code></li></ul>  \n",
        " **`project_subject_categories`** | One or more (comma-separated) subject categories for the project from the following enumerated list of values:  <br/><ul><li><code>Applied Learning</code></li><li><code>Care &amp; Hunger</code></li><li><code>Health &amp; Sports</code></li><li><code>History &amp; Civics</code></li><li><code>Literacy &amp; Language</code></li><li><code>Math &amp; Science</code></li><li><code>Music &amp; The Arts</code></li><li><code>Special Needs</code></li><li><code>Warmth</code></li></ul><br/> **Examples:** <br/><ul><li><code>Music &amp; The Arts</code></li><li><code>Literacy &amp; Language, Math &amp; Science</code></li>  \n",
        "  **`school_state`** | State where school is located ([Two-letter U.S. postal code](https://en.wikipedia.org/wiki/List_of_U.S._state_abbreviations#Postal_codes)). **Example:** `WY`\n",
        "**`project_subject_subcategories`** | One or more (comma-separated) subject subcategories for the project. **Examples:** <br/><ul><li><code>Literacy</code></li><li><code>Literature &amp; Writing, Social Sciences</code></li></ul> \n",
        "**`project_resource_summary`** | An explanation of the resources needed for the project. **Example:** <br/><ul><li><code>My students need hands on literacy materials to manage sensory needs!</code</li></ul> \n",
        "**`project_essay_1`**    | First application essay<sup>*</sup>  \n",
        "**`project_essay_2`**    | Second application essay<sup>*</sup> \n",
        "**`project_essay_3`**    | Third application essay<sup>*</sup> \n",
        "**`project_essay_4`**    | Fourth application essay<sup>*</sup> \n",
        "**`project_submitted_datetime`** | Datetime when project application was submitted. **Example:** `2016-04-28 12:43:56.245`   \n",
        "**`teacher_id`** | A unique identifier for the teacher of the proposed project. **Example:** `bdf8baa8fedef6bfeec7ae4ff1c15c56`  \n",
        "**`teacher_prefix`** | Teacher's title. One of the following enumerated values: <br/><ul><li><code>nan</code></li><li><code>Dr.</code></li><li><code>Mr.</code></li><li><code>Mrs.</code></li><li><code>Ms.</code></li><li><code>Teacher.</code></li></ul>  \n",
        "**`teacher_number_of_previously_posted_projects`** | Number of project applications previously submitted by the same teacher. **Example:** `2` \n",
        "\n",
        "<sup>*</sup> See the section <b>Notes on the Essay Data</b> for more details about these features.\n",
        "\n",
        "Additionally, the `resources.csv` data set provides more data about the resources required for each project. Each line in this file represents a resource required by a project:\n",
        "\n",
        "Feature | Description \n",
        "----------|---------------\n",
        "**`id`** | A `project_id` value from the `train.csv` file.  **Example:** `p036502`   \n",
        "**`description`** | Desciption of the resource. **Example:** `Tenor Saxophone Reeds, Box of 25`   \n",
        "**`quantity`** | Quantity of the resource required. **Example:** `3`   \n",
        "**`price`** | Price of the resource required. **Example:** `9.95`   \n",
        "\n",
        "**Note:** Many projects require multiple resources. The `id` value corresponds to a `project_id` in train.csv, so you use it as a key to retrieve all resources needed for a project:\n",
        "\n",
        "The data set contains the following label (the value you will attempt to predict):\n",
        "\n",
        "Label | Description\n",
        "----------|---------------\n",
        "`project_is_approved` | A binary flag indicating whether DonorsChoose approved the project. A value of `0` indicates the project was not approved, and a value of `1` indicates the project was approved."
      ]
    },
    {
      "cell_type": "markdown",
      "metadata": {
        "id": "nQNfjlrQ9w3m"
      },
      "source": [
        "### Notes on the Essay Data\n",
        "\n",
        "<ul>\n",
        "Prior to May 17, 2016, the prompts for the essays were as follows:\n",
        "<li>__project_essay_1:__ \"Introduce us to your classroom\"</li>\n",
        "<li>__project_essay_2:__ \"Tell us more about your students\"</li>\n",
        "<li>__project_essay_3:__ \"Describe how your students will use the materials you're requesting\"</li>\n",
        "<li>__project_essay_3:__ \"Close by sharing why your project will make a difference\"</li>\n",
        "</ul>\n",
        "\n",
        "\n",
        "<ul>\n",
        "Starting on May 17, 2016, the number of essays was reduced from 4 to 2, and the prompts for the first 2 essays were changed to the following:<br>\n",
        "<li>__project_essay_1:__ \"Describe your students: What makes your students special? Specific details about their background, your neighborhood, and your school are all helpful.\"</li>\n",
        "<li>__project_essay_2:__ \"About your project: How will these materials make a difference in your students' learning and improve their school lives?\"</li>\n",
        "<br>For all projects with project_submitted_datetime of 2016-05-17 and later, the values of project_essay_3 and project_essay_4 will be NaN.\n",
        "</ul>\n"
      ]
    },
    {
      "cell_type": "code",
      "metadata": {
        "collapsed": true,
        "id": "oPm2IvI79w3p"
      },
      "source": [
        "%matplotlib inline\n",
        "import warnings\n",
        "warnings.filterwarnings(\"ignore\")\n",
        "\n",
        "import pandas as pd\n",
        "import numpy as np\n",
        "from sklearn.feature_extraction.text import TfidfVectorizer\n",
        "from sklearn.feature_extraction.text import CountVectorizer\n",
        "\n",
        "\n",
        "import re\n",
        "# Tutorial about Python regular expressions: https://pymotw.com/2/re/\n",
        "\n",
        "from nltk.corpus import stopwords\n",
        "import pickle\n",
        "\n",
        "#from tqdm import tqdm\n",
        "#import os"
      ],
      "execution_count": null,
      "outputs": []
    },
    {
      "cell_type": "markdown",
      "metadata": {
        "id": "HeJEAa0V9w3s"
      },
      "source": [
        "## 1. Reading Data"
      ]
    },
    {
      "cell_type": "code",
      "metadata": {
        "collapsed": true,
        "id": "6f6EmWyQ9w3t"
      },
      "source": [
        "project_data = pd.read_csv('train_data.csv', nrows=5000)\n",
        "resource_data = pd.read_csv('resources.csv')"
      ],
      "execution_count": null,
      "outputs": []
    },
    {
      "cell_type": "code",
      "metadata": {
        "collapsed": true,
        "id": "sKjQr5Lu9w3w"
      },
      "source": [
        "import pandas as pd\n",
        "preprocessed_data = pd.read_csv('preprocessed_data.csv')"
      ],
      "execution_count": null,
      "outputs": []
    },
    {
      "cell_type": "code",
      "metadata": {
        "id": "BCrRr4m_9w3z",
        "outputId": "504cdecc-9683-446b-eb83-cefd3faf24e8"
      },
      "source": [
        "preprocessed_data.head()"
      ],
      "execution_count": null,
      "outputs": [
        {
          "output_type": "execute_result",
          "data": {
            "text/html": [
              "<div>\n",
              "<style>\n",
              "    .dataframe thead tr:only-child th {\n",
              "        text-align: right;\n",
              "    }\n",
              "\n",
              "    .dataframe thead th {\n",
              "        text-align: left;\n",
              "    }\n",
              "\n",
              "    .dataframe tbody tr th {\n",
              "        vertical-align: top;\n",
              "    }\n",
              "</style>\n",
              "<table border=\"1\" class=\"dataframe\">\n",
              "  <thead>\n",
              "    <tr style=\"text-align: right;\">\n",
              "      <th></th>\n",
              "      <th>school_state</th>\n",
              "      <th>teacher_prefix</th>\n",
              "      <th>project_grade_category</th>\n",
              "      <th>teacher_number_of_previously_posted_projects</th>\n",
              "      <th>project_is_approved</th>\n",
              "      <th>clean_categories</th>\n",
              "      <th>clean_subcategories</th>\n",
              "      <th>essay</th>\n",
              "      <th>price</th>\n",
              "    </tr>\n",
              "  </thead>\n",
              "  <tbody>\n",
              "    <tr>\n",
              "      <th>0</th>\n",
              "      <td>ca</td>\n",
              "      <td>mrs</td>\n",
              "      <td>grades_prek_2</td>\n",
              "      <td>53</td>\n",
              "      <td>1</td>\n",
              "      <td>math_science</td>\n",
              "      <td>appliedsciences health_lifescience</td>\n",
              "      <td>i fortunate enough use fairy tale stem kits cl...</td>\n",
              "      <td>725.05</td>\n",
              "    </tr>\n",
              "    <tr>\n",
              "      <th>1</th>\n",
              "      <td>ut</td>\n",
              "      <td>ms</td>\n",
              "      <td>grades_3_5</td>\n",
              "      <td>4</td>\n",
              "      <td>1</td>\n",
              "      <td>specialneeds</td>\n",
              "      <td>specialneeds</td>\n",
              "      <td>imagine 8 9 years old you third grade classroo...</td>\n",
              "      <td>213.03</td>\n",
              "    </tr>\n",
              "    <tr>\n",
              "      <th>2</th>\n",
              "      <td>ca</td>\n",
              "      <td>mrs</td>\n",
              "      <td>grades_prek_2</td>\n",
              "      <td>10</td>\n",
              "      <td>1</td>\n",
              "      <td>literacy_language</td>\n",
              "      <td>literacy</td>\n",
              "      <td>having class 24 students comes diverse learner...</td>\n",
              "      <td>329.00</td>\n",
              "    </tr>\n",
              "    <tr>\n",
              "      <th>3</th>\n",
              "      <td>ga</td>\n",
              "      <td>mrs</td>\n",
              "      <td>grades_prek_2</td>\n",
              "      <td>2</td>\n",
              "      <td>1</td>\n",
              "      <td>appliedlearning</td>\n",
              "      <td>earlydevelopment</td>\n",
              "      <td>i recently read article giving students choice...</td>\n",
              "      <td>481.04</td>\n",
              "    </tr>\n",
              "    <tr>\n",
              "      <th>4</th>\n",
              "      <td>wa</td>\n",
              "      <td>mrs</td>\n",
              "      <td>grades_3_5</td>\n",
              "      <td>2</td>\n",
              "      <td>1</td>\n",
              "      <td>literacy_language</td>\n",
              "      <td>literacy</td>\n",
              "      <td>my students crave challenge eat obstacles brea...</td>\n",
              "      <td>17.74</td>\n",
              "    </tr>\n",
              "  </tbody>\n",
              "</table>\n",
              "</div>"
            ],
            "text/plain": [
              "  school_state teacher_prefix project_grade_category  \\\n",
              "0           ca            mrs          grades_prek_2   \n",
              "1           ut             ms             grades_3_5   \n",
              "2           ca            mrs          grades_prek_2   \n",
              "3           ga            mrs          grades_prek_2   \n",
              "4           wa            mrs             grades_3_5   \n",
              "\n",
              "   teacher_number_of_previously_posted_projects  project_is_approved  \\\n",
              "0                                            53                    1   \n",
              "1                                             4                    1   \n",
              "2                                            10                    1   \n",
              "3                                             2                    1   \n",
              "4                                             2                    1   \n",
              "\n",
              "    clean_categories                 clean_subcategories  \\\n",
              "0       math_science  appliedsciences health_lifescience   \n",
              "1       specialneeds                        specialneeds   \n",
              "2  literacy_language                            literacy   \n",
              "3    appliedlearning                    earlydevelopment   \n",
              "4  literacy_language                            literacy   \n",
              "\n",
              "                                               essay   price  \n",
              "0  i fortunate enough use fairy tale stem kits cl...  725.05  \n",
              "1  imagine 8 9 years old you third grade classroo...  213.03  \n",
              "2  having class 24 students comes diverse learner...  329.00  \n",
              "3  i recently read article giving students choice...  481.04  \n",
              "4  my students crave challenge eat obstacles brea...   17.74  "
            ]
          },
          "metadata": {
            "tags": []
          },
          "execution_count": 3
        }
      ]
    },
    {
      "cell_type": "code",
      "metadata": {
        "id": "wtjYeXeX9w35",
        "outputId": "99c58180-20df-4972-f65a-d27b6c7a98d3"
      },
      "source": [
        "preprocessed_data.shape"
      ],
      "execution_count": null,
      "outputs": [
        {
          "output_type": "execute_result",
          "data": {
            "text/plain": [
              "(109248, 9)"
            ]
          },
          "metadata": {
            "tags": []
          },
          "execution_count": 4
        }
      ]
    },
    {
      "cell_type": "code",
      "metadata": {
        "id": "XsUnruqT9w38",
        "outputId": "93031836-f498-48b2-f15a-222c310a2419"
      },
      "source": [
        "# Import K# Importing tensorflow\n",
        "np.random.seed(42)\n",
        "import tensorflow as tf\n",
        "tf.set_random_seed(42)\n",
        "\n",
        "# Configuring a session\n",
        "session_conf = tf.ConfigProto(\n",
        "    intra_op_parallelism_threads=1,\n",
        "    inter_op_parallelism_threads=1\n",
        ")\n",
        "\n",
        "from keras import backend as K\n",
        "sess = tf.Session(graph=tf.get_default_graph(), config=session_conf)\n",
        "K.set_session(sess)"
      ],
      "execution_count": null,
      "outputs": [
        {
          "output_type": "stream",
          "text": [
            "Using TensorFlow backend.\n"
          ],
          "name": "stderr"
        }
      ]
    },
    {
      "cell_type": "code",
      "metadata": {
        "collapsed": true,
        "id": "LI653wbT9w3-"
      },
      "source": [
        "# Importing libraries\n",
        "from keras.models import Sequential\n",
        "from keras.layers import LSTM\n",
        "from keras.layers.core import Dense, Dropout"
      ],
      "execution_count": null,
      "outputs": []
    },
    {
      "cell_type": "code",
      "metadata": {
        "collapsed": true,
        "id": "SM3f7r6n9w3_"
      },
      "source": [
        "Y = preprocessed_data['project_is_approved']"
      ],
      "execution_count": null,
      "outputs": []
    },
    {
      "cell_type": "code",
      "metadata": {
        "collapsed": true,
        "id": "YK_DX7439w4A"
      },
      "source": [
        "X = preprocessed_data.drop('project_is_approved',axis=1)"
      ],
      "execution_count": null,
      "outputs": []
    },
    {
      "cell_type": "code",
      "metadata": {
        "id": "QRw2ipaN9w4B",
        "outputId": "67529a9a-e548-4d54-9a43-3e0725a15bd6"
      },
      "source": [
        "X.columns"
      ],
      "execution_count": null,
      "outputs": [
        {
          "output_type": "execute_result",
          "data": {
            "text/plain": [
              "Index(['school_state', 'teacher_prefix', 'project_grade_category',\n",
              "       'teacher_number_of_previously_posted_projects', 'clean_categories',\n",
              "       'clean_subcategories', 'essay', 'price'],\n",
              "      dtype='object')"
            ]
          },
          "metadata": {
            "tags": []
          },
          "execution_count": 9
        }
      ]
    },
    {
      "cell_type": "code",
      "metadata": {
        "collapsed": true,
        "id": "fZqDPxAF9w4C"
      },
      "source": [
        "#https://www.pyimagesearch.com/2019/02/04/keras-multiple-inputs-and-mixed-data/https://www.pyimagesearch.com/2019/02/04/keras-multiple-inputs-and-mixed-data/"
      ],
      "execution_count": null,
      "outputs": []
    },
    {
      "cell_type": "code",
      "metadata": {
        "collapsed": true,
        "id": "BD62ygb89w4D"
      },
      "source": [
        "from sklearn.model_selection import train_test_split\n",
        "# split the data set into train and test\n",
        "X_train, X_test, y_train, y_test = train_test_split(X, Y, stratify = Y,\n",
        "                                                             test_size=0.3, random_state=42)\n"
      ],
      "execution_count": null,
      "outputs": []
    },
    {
      "cell_type": "code",
      "metadata": {
        "id": "1ibo3dal9w4E",
        "outputId": "4666612e-9c6b-461d-a850-d8e1baae83a3"
      },
      "source": [
        "y_train.value_counts()"
      ],
      "execution_count": null,
      "outputs": [
        {
          "output_type": "execute_result",
          "data": {
            "text/plain": [
              "1    64894\n",
              "0    11579\n",
              "Name: project_is_approved, dtype: int64"
            ]
          },
          "metadata": {
            "tags": []
          },
          "execution_count": 12
        }
      ]
    },
    {
      "cell_type": "code",
      "metadata": {
        "collapsed": true,
        "scrolled": true,
        "id": "csfIsQh09w4F"
      },
      "source": [
        "from keras.preprocessing.text import Tokenizer\n",
        "tokenizer_essay = Tokenizer()\n",
        "tokenizer_essay.fit_on_texts(X_train['essay'].values)\n",
        "\n",
        "essay_train = tokenizer_essay.texts_to_sequences(X_train['essay'].values)\n",
        "essay_test = tokenizer_essay.texts_to_sequences(X_test['essay'].values)"
      ],
      "execution_count": null,
      "outputs": []
    },
    {
      "cell_type": "code",
      "metadata": {
        "collapsed": true,
        "scrolled": true,
        "id": "4qNG3Nme9w4G"
      },
      "source": [
        "from keras.preprocessing import sequence\n",
        "#max_length = max(len1)\n",
        "essay_train = sequence.pad_sequences(essay_train,maxlen=331)\n",
        "essay_test = sequence.pad_sequences(essay_test,maxlen=331)"
      ],
      "execution_count": null,
      "outputs": []
    },
    {
      "cell_type": "code",
      "metadata": {
        "collapsed": true,
        "id": "RHxiLT3k9w4H"
      },
      "source": [
        "tokenizer_clean_categories = Tokenizer(filters='!\"#$%&()*+,-./:;<=>?@[\\\\]^`{|}~\\t\\n')\n",
        "tokenizer_clean_categories.fit_on_texts(X_train['clean_categories'].values)\n",
        "\n",
        "clean_categories_train = tokenizer_clean_categories.texts_to_sequences(X_train['clean_categories'].values)\n",
        "clean_categories_test = tokenizer_clean_categories.texts_to_sequences(X_test['clean_categories'].values)\n",
        "\n",
        "clean_categories_train = sequence.pad_sequences(clean_categories_train)\n",
        "clean_categories_test = sequence.pad_sequences(clean_categories_test)"
      ],
      "execution_count": null,
      "outputs": []
    },
    {
      "cell_type": "code",
      "metadata": {
        "id": "moyte0F39w4I",
        "outputId": "6af4f105-8990-418b-c98a-a4ef5085e556"
      },
      "source": [
        "print (clean_categories_train.shape)\n",
        "print (clean_categories_test.shape)"
      ],
      "execution_count": null,
      "outputs": [
        {
          "output_type": "stream",
          "text": [
            "(76473, 3)\n",
            "(32775, 3)\n"
          ],
          "name": "stdout"
        }
      ]
    },
    {
      "cell_type": "code",
      "metadata": {
        "collapsed": true,
        "id": "462Gsc9n9w4J"
      },
      "source": [
        "tokenizer_clean_subcategories = Tokenizer(filters='!\"#$%&()*+,-./:;<=>?@[\\\\]^`{|}~\\t\\n')\n",
        "tokenizer_clean_subcategories.fit_on_texts(X_train['clean_subcategories'].values)\n",
        "\n",
        "clean_subcategories_train = tokenizer_clean_subcategories.texts_to_sequences(X_train['clean_subcategories'].values)\n",
        "clean_subcategories_test = tokenizer_clean_subcategories.texts_to_sequences(X_test['clean_subcategories'].values)\n",
        "\n",
        "clean_subcategories_train = sequence.pad_sequences(clean_subcategories_train)\n",
        "clean_subcategories_test = sequence.pad_sequences(clean_subcategories_test)"
      ],
      "execution_count": null,
      "outputs": []
    },
    {
      "cell_type": "code",
      "metadata": {
        "id": "YFDO9Mev9w4K",
        "outputId": "4602e2b5-7444-4eac-e61c-022091fcb523"
      },
      "source": [
        "print (clean_subcategories_train.shape)\n",
        "print (clean_subcategories_test.shape)"
      ],
      "execution_count": null,
      "outputs": [
        {
          "output_type": "stream",
          "text": [
            "(76473, 3)\n",
            "(32775, 3)\n"
          ],
          "name": "stdout"
        }
      ]
    },
    {
      "cell_type": "code",
      "metadata": {
        "collapsed": true,
        "id": "_9AEngMY9w4L"
      },
      "source": [
        "tokenizer_school_state = Tokenizer()\n",
        "tokenizer_school_state.fit_on_texts(X_train['school_state'].values)\n",
        "\n",
        "school_state_train = tokenizer_school_state.texts_to_sequences(X_train['school_state'].values)\n",
        "school_state_test = tokenizer_school_state.texts_to_sequences(X_test['school_state'].values)\n",
        "\n",
        "school_state_train = sequence.pad_sequences(school_state_train)\n",
        "school_state_test = sequence.pad_sequences(school_state_test)"
      ],
      "execution_count": null,
      "outputs": []
    },
    {
      "cell_type": "code",
      "metadata": {
        "id": "QOrM0I3Z9w4M",
        "outputId": "7ab12543-2f6e-46a1-cf6f-3b9ecc79b7aa"
      },
      "source": [
        "print (school_state_train.shape)\n",
        "print (school_state_test.shape)"
      ],
      "execution_count": null,
      "outputs": [
        {
          "output_type": "stream",
          "text": [
            "(76473, 1)\n",
            "(32775, 1)\n"
          ],
          "name": "stdout"
        }
      ]
    },
    {
      "cell_type": "code",
      "metadata": {
        "collapsed": true,
        "id": "3hNUuHyw9w4O"
      },
      "source": [
        "tokenizer_teacher_prefix = Tokenizer()\n",
        "tokenizer_teacher_prefix.fit_on_texts(X_train['teacher_prefix'].values)\n",
        "\n",
        "teacher_prefix_train = tokenizer_teacher_prefix.texts_to_sequences(X_train['teacher_prefix'].values)\n",
        "teacher_prefix_test = tokenizer_teacher_prefix.texts_to_sequences(X_test['teacher_prefix'].values)\n",
        "\n",
        "teacher_prefix_train = sequence.pad_sequences(teacher_prefix_train)\n",
        "teacher_prefix_test = sequence.pad_sequences(teacher_prefix_test)"
      ],
      "execution_count": null,
      "outputs": []
    },
    {
      "cell_type": "code",
      "metadata": {
        "id": "NROIuXzc9w4O",
        "outputId": "9f983da0-1c74-4c24-deb5-076a2e7f209b"
      },
      "source": [
        "print (teacher_prefix_train.shape)\n",
        "print (teacher_prefix_test.shape)"
      ],
      "execution_count": null,
      "outputs": [
        {
          "output_type": "stream",
          "text": [
            "(76473, 1)\n",
            "(32775, 1)\n"
          ],
          "name": "stdout"
        }
      ]
    },
    {
      "cell_type": "code",
      "metadata": {
        "collapsed": true,
        "id": "uo2D-tGl9w4Q"
      },
      "source": [
        "tokenizer_project_grade_category = Tokenizer(filters='!\"#$%&()*+,-./:;<=>?@[\\\\]^`{|}~\\t\\n')\n",
        "tokenizer_project_grade_category.fit_on_texts(X_train['project_grade_category'].values)\n",
        "\n",
        "project_grade_category_train = tokenizer_project_grade_category.texts_to_sequences(X_train['project_grade_category'].values)\n",
        "project_grade_category_test = tokenizer_project_grade_category.texts_to_sequences(X_test['project_grade_category'].values)\n",
        "\n",
        "project_grade_category_train = sequence.pad_sequences(project_grade_category_train)\n",
        "project_grade_category_test = sequence.pad_sequences(project_grade_category_test)"
      ],
      "execution_count": null,
      "outputs": []
    },
    {
      "cell_type": "code",
      "metadata": {
        "id": "g-XK2oMt9w4R",
        "outputId": "0d70fb9d-2328-4013-c827-cc2cacd1d200"
      },
      "source": [
        "print (project_grade_category_train.shape)\n",
        "print (project_grade_category_test.shape)"
      ],
      "execution_count": null,
      "outputs": [
        {
          "output_type": "stream",
          "text": [
            "(76473, 1)\n",
            "(32775, 1)\n"
          ],
          "name": "stdout"
        }
      ]
    },
    {
      "cell_type": "markdown",
      "metadata": {
        "id": "FSq4gO9-9w4S"
      },
      "source": [
        "# MODEL 1"
      ]
    },
    {
      "cell_type": "code",
      "metadata": {
        "collapsed": true,
        "id": "UKNOjjyh9w4T"
      },
      "source": [
        "num_feat_train = X_train[['price','teacher_number_of_previously_posted_projects']]"
      ],
      "execution_count": null,
      "outputs": []
    },
    {
      "cell_type": "code",
      "metadata": {
        "collapsed": true,
        "id": "iCV26EYr9w4T"
      },
      "source": [
        "num_feat_test = X_test[['price','teacher_number_of_previously_posted_projects']]"
      ],
      "execution_count": null,
      "outputs": []
    },
    {
      "cell_type": "code",
      "metadata": {
        "id": "TfJpTS3_9w4U",
        "outputId": "767daf62-a4e3-4967-9ac1-95121c033dc2"
      },
      "source": [
        "num_feat_train.shape"
      ],
      "execution_count": null,
      "outputs": [
        {
          "output_type": "execute_result",
          "data": {
            "text/plain": [
              "(76473, 2)"
            ]
          },
          "metadata": {
            "tags": []
          },
          "execution_count": 27
        }
      ]
    },
    {
      "cell_type": "code",
      "metadata": {
        "collapsed": true,
        "id": "GV_9Sv2g9w4V"
      },
      "source": [
        "num_feat = Input(shape=(2,),name = 'num_feat')\n",
        "dense_out = Dense(2)(num_feat)\n",
        "#dense_out = Flatten()(dense_out)"
      ],
      "execution_count": null,
      "outputs": []
    },
    {
      "cell_type": "code",
      "metadata": {
        "id": "Y3lbyfiI9w4W",
        "outputId": "9dc2d53e-ffd0-4644-a2f4-0af3848f41f9"
      },
      "source": [
        "from keras.layers import Input, Embedding, LSTM, Dense, Flatten\n",
        "from keras.models import Model\n",
        "import keras\n",
        "from keras.layers import LeakyReLU\n",
        "from keras.layers import Dense, Dropout, BatchNormalization\n",
        "from sklearn.metrics import roc_auc_score\n",
        "import tensorflow as tf\n",
        "import keras.backend as K\n",
        "from sklearn.utils import class_weight\n",
        "from keras.callbacks import Callback\n",
        "from keras.callbacks import ModelCheckpoint\n",
        "\n",
        "\n",
        "class_weight = class_weight.compute_class_weight('balanced'\n",
        "                                               ,np.unique(y_train)\n",
        "                                               ,y_train)\n",
        "\n",
        "'''def auc(y_true, y_pred):\n",
        "    return tf.py_func(roc_auc_score, (y_true, y_pred), tf.double)\n",
        "'''\n",
        "def auc(y_true, y_pred):\n",
        "    auc = tf.metrics.auc(y_true, y_pred)[1]\n",
        "    K.get_session().run(tf.local_variables_initializer())\n",
        "    return auc  \n",
        "best_model = ModelCheckpoint('best_model_donor.h5', monitor='val_auc', mode='max', verbose=0, save_best_only=True)\n",
        "#from keras.layers import Dense, Dropout,\n",
        "essay_input = Input(shape=(essay_train.shape[1],), name='essay_input')\n",
        "essay = Embedding(output_dim=32, input_dim=len (tokenizer_essay.word_index)+1, input_length=essay_train.shape[1])(essay_input)\n",
        "lstm_out = LSTM(100, return_sequences = True)(essay)\n",
        "lstm_out = Flatten()(lstm_out)\n",
        "\n",
        "clean_categories_input = Input(shape=(clean_categories_train.shape[1],), dtype='int32', name='clean_categories_input')\n",
        "clean_categories = Embedding(output_dim=1, input_dim=len (tokenizer_clean_categories.word_index)+1, input_length=clean_categories_train.shape[1])(clean_categories_input)\n",
        "clean_categories = Flatten()(clean_categories)\n",
        "\n",
        "clean_subcategories_input = Input(shape=(clean_subcategories_train.shape[1],), dtype='int32', name='clean_subcategories_input')\n",
        "clean_subcategories = Embedding(output_dim=1, input_dim=len (tokenizer_clean_subcategories.word_index)+1, input_length=clean_subcategories_train.shape[1])(clean_subcategories_input)\n",
        "clean_subcategories = Flatten()(clean_subcategories)\n",
        "\n",
        "school_state_input = Input(shape=(school_state_train.shape[1],), dtype='int32', name='school_state_input')\n",
        "school_state = Embedding(output_dim=1, input_dim=len (tokenizer_school_state.word_index)+1, input_length=school_state_train.shape[1])(school_state_input)\n",
        "school_state = Flatten()(school_state)\n",
        "\n",
        "teacher_prefix_input = Input(shape=(teacher_prefix_train.shape[1],), dtype='int32', name='teacher_prefix_input')\n",
        "teacher_prefix = Embedding(output_dim=1, input_dim=len (tokenizer_teacher_prefix.word_index)+1, input_length=teacher_prefix_train.shape[1])(teacher_prefix_input)\n",
        "teacher_prefix = Flatten()(teacher_prefix)\n",
        "\n",
        "project_grade_category_input = Input(shape=(project_grade_category_train.shape[1],), dtype='int32', name='project_grade_category_input')\n",
        "project_grade_category = Embedding(output_dim=1, input_dim=len (tokenizer_project_grade_category.word_index)+1, input_length=project_grade_category_train.shape[1])(project_grade_category_input)\n",
        "project_grade_category = Flatten()(project_grade_category)\n",
        "\n",
        "num_feat = Input(shape=(2,),name = 'num_feat')\n",
        "dense_out = Dense(2)(num_feat)\n",
        "#dense_out = Flatten()(dense_out)\n",
        "\n",
        "concat_layer = keras.layers.concatenate([lstm_out,clean_categories,clean_subcategories,\n",
        "                                         school_state,teacher_prefix,project_grade_category,\n",
        "                                         dense_out])\n",
        "model1 = Dense(32,activation='relu',kernel_initializer='he_normal')(concat_layer)\n",
        "model1 = BatchNormalization()(model1)\n",
        "model1 = Dropout(1-0.5)(model1)\n",
        "model1 = Dense(16, activation='relu',kernel_initializer='he_normal')(model1)\n",
        "model1 = Dropout(1-0.5)(model1)\n",
        "model1 = Dense(16, activation='relu',kernel_initializer='he_normal')(model1)\n",
        "\n",
        "main_output = Dense(1, activation='sigmoid', name='main_output')(model1)\n",
        "model = Model(inputs=[essay_input,clean_categories_input,clean_subcategories_input,school_state_input,\n",
        "                      teacher_prefix_input,project_grade_category_input,num_feat], outputs=[main_output])\n",
        "model.compile(optimizer='adam',\n",
        "              loss='binary_crossentropy',\n",
        "              metrics=['accuracy',auc])\n",
        "#model.summary()\n",
        "history = model.fit([essay_train,clean_categories_train,clean_subcategories_train,school_state_train,\n",
        "                      teacher_prefix_train,project_grade_category_train,num_feat_train],y_train,batch_size=128, epochs=10,\n",
        "                   validation_data = ([essay_test,clean_categories_test,clean_subcategories_test,school_state_test,\n",
        "                      teacher_prefix_test,project_grade_category_test,num_feat_test],y_test),class_weight=class_weight)\n",
        "model.save('my_model_donor.h5')"
      ],
      "execution_count": null,
      "outputs": [
        {
          "output_type": "stream",
          "text": [
            "WARNING:tensorflow:From /home/vinodhreddy1996/anaconda3/lib/python3.6/site-packages/tensorflow/python/ops/metrics_impl.py:526: to_float (from tensorflow.python.ops.math_ops) is deprecated and will be removed in a future version.\n",
            "Instructions for updating:\n",
            "Use tf.cast instead.\n",
            "WARNING:tensorflow:From /home/vinodhreddy1996/anaconda3/lib/python3.6/site-packages/tensorflow/python/ops/metrics_impl.py:788: div (from tensorflow.python.ops.math_ops) is deprecated and will be removed in a future version.\n",
            "Instructions for updating:\n",
            "Deprecated in favor of operator or tf.math.divide.\n",
            "Train on 76473 samples, validate on 32775 samples\n",
            "Epoch 1/10\n",
            "76473/76473 [==============================] - 760s 10ms/step - loss: 0.5093 - acc: 0.7940 - auc: 0.5519 - val_loss: 0.7375 - val_acc: 0.4568 - val_auc: 0.5860\n",
            "Epoch 2/10\n",
            "76473/76473 [==============================] - 760s 10ms/step - loss: 0.4051 - acc: 0.8467 - auc: 0.6020 - val_loss: 1.2827 - val_acc: 0.1727 - val_auc: 0.6047\n",
            "Epoch 3/10\n",
            "76473/76473 [==============================] - 759s 10ms/step - loss: 0.3708 - acc: 0.8505 - auc: 0.6115 - val_loss: 5.1972 - val_acc: 0.1519 - val_auc: 0.6156\n",
            "Epoch 4/10\n",
            "76473/76473 [==============================] - 758s 10ms/step - loss: 0.3501 - acc: 0.8529 - auc: 0.6210 - val_loss: 0.4575 - val_acc: 0.8486 - val_auc: 0.6350\n",
            "Epoch 5/10\n",
            "76473/76473 [==============================] - 755s 10ms/step - loss: 0.3311 - acc: 0.8572 - auc: 0.6498 - val_loss: 1.2004 - val_acc: 0.8486 - val_auc: 0.6531\n",
            "Epoch 6/10\n",
            "76473/76473 [==============================] - 758s 10ms/step - loss: 0.3227 - acc: 0.8595 - auc: 0.6571 - val_loss: 0.4946 - val_acc: 0.8121 - val_auc: 0.6665\n",
            "Epoch 7/10\n",
            "76473/76473 [==============================] - 758s 10ms/step - loss: 0.3055 - acc: 0.8636 - auc: 0.6762 - val_loss: 1.6019 - val_acc: 0.1934 - val_auc: 0.6786\n",
            "Epoch 8/10\n",
            "76473/76473 [==============================] - 759s 10ms/step - loss: 0.2870 - acc: 0.8718 - auc: 0.6821 - val_loss: 0.9799 - val_acc: 0.4282 - val_auc: 0.6872\n",
            "Epoch 9/10\n",
            "76473/76473 [==============================] - 760s 10ms/step - loss: 0.2667 - acc: 0.8797 - auc: 0.6932 - val_loss: 0.6555 - val_acc: 0.6721 - val_auc: 0.6999\n",
            "Epoch 10/10\n",
            "76473/76473 [==============================] - 760s 10ms/step - loss: 0.2414 - acc: 0.8921 - auc: 0.7078 - val_loss: 1.1892 - val_acc: 0.8481 - val_auc: 0.7111\n"
          ],
          "name": "stdout"
        }
      ]
    },
    {
      "cell_type": "code",
      "metadata": {
        "collapsed": true,
        "id": "s0CADd_B9w4Z"
      },
      "source": [
        "%matplotlib inline\n",
        "import matplotlib.pyplot as plt\n",
        "import numpy as np\n",
        "import time\n",
        "# https://gist.github.com/greydanus/f6eee59eaf1d90fcb3b534a25362cea4\n",
        "# https://stackoverflow.com/a/14434334\n",
        "# this function is used to update the plots for each epoch and error\n",
        "def plt_dynamic(x, vy, ty, ax, colors=['b']):\n",
        "    ax.plot(x, vy, 'b', label=\"Validation Loss\")\n",
        "    ax.plot(x, ty, 'r', label=\"Train Loss\")\n",
        "    plt.legend()\n",
        "    plt.grid()\n",
        "    fig.canvas.draw()"
      ],
      "execution_count": null,
      "outputs": []
    },
    {
      "cell_type": "code",
      "metadata": {
        "id": "z_9_CGXi9w4b",
        "outputId": "bf873cb3-4be6-44ea-bee3-ecf474a8659b"
      },
      "source": [
        "#score = model.evaluate(X_test, y_test) \n",
        "#print('Test score:', score[0]) \n",
        "#print('Test accuracy:', score[1])\n",
        "#print('Test auc:', score[1])\n",
        "\n",
        "fig,ax = plt.subplots(1,1)\n",
        "ax.set_xlabel('epoch') ; ax.set_ylabel('Categorical Crossentropy Loss')\n",
        "epochs=10\n",
        "# list of epoch numbers\n",
        "x = list(range(1,epochs+1))\n",
        "\n",
        "vy = history.history['val_loss']\n",
        "ty = history.history['loss']\n",
        "plt_dynamic(x, vy, ty, ax)"
      ],
      "execution_count": null,
      "outputs": [
        {
          "output_type": "display_data",
          "data": {
            "image/png": "[encoded data removed]",
            "text/plain": [
              "<matplotlib.figure.Figure at 0x7f246de866a0>"
            ]
          },
          "metadata": {
            "tags": []
          }
        }
      ]
    },
    {
      "cell_type": "code",
      "metadata": {
        "id": "2IqZ14av9w4c",
        "outputId": "e5ec6b96-a9fb-4d6e-fbd4-d23c70f4671d"
      },
      "source": [
        "score = model.evaluate([essay_test,clean_categories_test,clean_subcategories_test,school_state_test,\n",
        "                      teacher_prefix_test,project_grade_category_test,num_feat_test],y_test) \n",
        "print('Test score:', score[0]) \n",
        "print('Test accuracy:', score[1])\n",
        "print('Test auc:', score[2])\n",
        "\n",
        "fig,ax = plt.subplots(1,1)\n",
        "ax.set_xlabel('epoch') ; ax.set_ylabel('Categorical Crossentropy Loss')\n",
        "epochs=10\n",
        "# list of epoch numbers\n",
        "x = list(range(1,epochs+1))\n",
        "\n",
        "vy = history.history['val_auc']\n",
        "ty = history.history['auc']\n",
        "plt_dynamic(x, vy, ty, ax)"
      ],
      "execution_count": null,
      "outputs": [
        {
          "output_type": "stream",
          "text": [
            "32775/32775 [==============================] - 90s 3ms/step\n",
            "Test score: 1.1891550716066084\n",
            "Test accuracy: 0.8481464530892449\n",
            "Test auc: 0.7019936615178641\n"
          ],
          "name": "stdout"
        },
        {
          "output_type": "display_data",
          "data": {
            "image/png": "[encoded data removed]",
            "text/plain": [
              "<matplotlib.figure.Figure at 0x7f246dde53c8>"
            ]
          },
          "metadata": {
            "tags": []
          }
        }
      ]
    },
    {
      "cell_type": "code",
      "metadata": {
        "id": "O-YyQ4lG9w4d",
        "outputId": "c6750254-cbd9-42ae-9fb0-4828cae0de1b"
      },
      "source": [
        "from keras.layers import Input, Embedding, LSTM, Dense, Flatten\n",
        "from keras.models import Model\n",
        "import keras\n",
        "from keras.layers import LeakyReLU\n",
        "from keras.layers import Dense, Dropout, BatchNormalization\n",
        "from sklearn.metrics import roc_auc_score\n",
        "import tensorflow as tf\n",
        "import keras.backend as K\n",
        "from sklearn.utils import class_weight\n",
        "from keras.callbacks import Callback\n",
        "from keras.callbacks import ModelCheckpoint\n",
        "\n",
        "'''def auc(y_true, y_pred):\n",
        "    return tf.py_func(roc_auc_score, (y_true, y_pred), tf.double)\n",
        "'''\n",
        "def auc(y_true, y_pred):\n",
        "    auc = tf.metrics.auc(y_true, y_pred)[1]\n",
        "    K.get_session().run(tf.local_variables_initializer())\n",
        "    return auc  \n",
        "best_model = ModelCheckpoint('best_model_donor1.h5', monitor='val_auc', mode='max', verbose=0, save_best_only=True)\n",
        "#from keras.layers import Dense, Dropout,\n",
        "essay_input = Input(shape=(essay_train.shape[1],), name='essay_input')\n",
        "essay = Embedding(output_dim=32, input_dim=len (tokenizer_essay.word_index)+1, input_length=essay_train.shape[1])(essay_input)\n",
        "lstm_out = LSTM(100, return_sequences = True)(essay)\n",
        "lstm_out = Flatten()(lstm_out)\n",
        "\n",
        "clean_categories_input = Input(shape=(clean_categories_train.shape[1],), dtype='int32', name='clean_categories_input')\n",
        "clean_categories = Embedding(output_dim=1, input_dim=len (tokenizer_clean_categories.word_index)+1, input_length=clean_categories_train.shape[1])(clean_categories_input)\n",
        "clean_categories = Flatten()(clean_categories)\n",
        "\n",
        "clean_subcategories_input = Input(shape=(clean_subcategories_train.shape[1],), dtype='int32', name='clean_subcategories_input')\n",
        "clean_subcategories = Embedding(output_dim=1, input_dim=len (tokenizer_clean_subcategories.word_index)+1, input_length=clean_subcategories_train.shape[1])(clean_subcategories_input)\n",
        "clean_subcategories = Flatten()(clean_subcategories)\n",
        "\n",
        "school_state_input = Input(shape=(school_state_train.shape[1],), dtype='int32', name='school_state_input')\n",
        "school_state = Embedding(output_dim=1, input_dim=len (tokenizer_school_state.word_index)+1, input_length=school_state_train.shape[1])(school_state_input)\n",
        "school_state = Flatten()(school_state)\n",
        "\n",
        "teacher_prefix_input = Input(shape=(teacher_prefix_train.shape[1],), dtype='int32', name='teacher_prefix_input')\n",
        "teacher_prefix = Embedding(output_dim=1, input_dim=len (tokenizer_teacher_prefix.word_index)+1, input_length=teacher_prefix_train.shape[1])(teacher_prefix_input)\n",
        "teacher_prefix = Flatten()(teacher_prefix)\n",
        "\n",
        "project_grade_category_input = Input(shape=(project_grade_category_train.shape[1],), dtype='int32', name='project_grade_category_input')\n",
        "project_grade_category = Embedding(output_dim=1, input_dim=len (tokenizer_project_grade_category.word_index)+1, input_length=project_grade_category_train.shape[1])(project_grade_category_input)\n",
        "project_grade_category = Flatten()(project_grade_category)\n",
        "\n",
        "num_feat = Input(shape=(2,),name = 'num_feat')\n",
        "dense_out = Dense(2)(num_feat)\n",
        "#dense_out = Flatten()(dense_out)\n",
        "\n",
        "concat_layer = keras.layers.concatenate([lstm_out,clean_categories,clean_subcategories,\n",
        "                                         school_state,teacher_prefix,project_grade_category,\n",
        "                                         dense_out])\n",
        "model1 = Dense(32,activation='relu',kernel_initializer='he_normal')(concat_layer)\n",
        "model1 = BatchNormalization()(model1)\n",
        "model1 = Dropout(1-0.5)(model1)\n",
        "model1 = Dense(16, activation='relu',kernel_initializer='he_normal')(model1)\n",
        "model1 = Dropout(1-0.5)(model1)\n",
        "model1 = Dense(16, activation='relu',kernel_initializer='he_normal')(model1)\n",
        "\n",
        "main_output = Dense(1, activation='sigmoid', name='main_output')(model1)\n",
        "model = Model(inputs=[essay_input,clean_categories_input,clean_subcategories_input,school_state_input,\n",
        "                      teacher_prefix_input,project_grade_category_input,num_feat], outputs=[main_output])\n",
        "model.compile(optimizer='adam',\n",
        "              loss='binary_crossentropy',\n",
        "              metrics=['accuracy',auc])\n",
        "#model.summary()\n",
        "history = model.fit([essay_train,clean_categories_train,clean_subcategories_train,school_state_train,\n",
        "                      teacher_prefix_train,project_grade_category_train,num_feat_train],y_train,batch_size=128, epochs=10,\n",
        "                   validation_data = ([essay_test,clean_categories_test,clean_subcategories_test,school_state_test,\n",
        "                      teacher_prefix_test,project_grade_category_test,num_feat_test],y_test))\n",
        "model.save('my_model_donor1.h5')"
      ],
      "execution_count": null,
      "outputs": [
        {
          "output_type": "stream",
          "text": [
            "Train on 76473 samples, validate on 32775 samples\n",
            "Epoch 1/10\n",
            "76473/76473 [==============================] - 898s 12ms/step - loss: 0.4667 - acc: 0.8274 - auc: 0.5725 - val_loss: 0.4102 - val_acc: 0.8486 - val_auc: 0.6244\n",
            "Epoch 2/10\n",
            "76473/76473 [==============================] - 892s 12ms/step - loss: 0.3908 - acc: 0.8481 - auc: 0.6532 - val_loss: 0.3913 - val_acc: 0.8486 - val_auc: 0.6724\n",
            "Epoch 3/10\n",
            "76473/76473 [==============================] - 886s 12ms/step - loss: 0.3645 - acc: 0.8484 - auc: 0.6909 - val_loss: 0.7347 - val_acc: 0.2899 - val_auc: 0.6839\n",
            "Epoch 4/10\n",
            "76473/76473 [==============================] - 887s 12ms/step - loss: 0.3445 - acc: 0.8490 - auc: 0.6818 - val_loss: 1.2052 - val_acc: 0.8486 - val_auc: 0.6808\n",
            "Epoch 5/10\n",
            "76473/76473 [==============================] - 889s 12ms/step - loss: 0.3277 - acc: 0.8495 - auc: 0.6826 - val_loss: 0.5194 - val_acc: 0.8486 - val_auc: 0.6917\n",
            "Epoch 6/10\n",
            "76473/76473 [==============================] - 891s 12ms/step - loss: 0.3120 - acc: 0.8505 - auc: 0.7015 - val_loss: 0.5746 - val_acc: 0.8483 - val_auc: 0.7094\n",
            "Epoch 7/10\n",
            "76473/76473 [==============================] - 859s 11ms/step - loss: 0.2972 - acc: 0.8527 - auc: 0.7180 - val_loss: 0.7106 - val_acc: 0.4812 - val_auc: 0.7197\n",
            "Epoch 8/10\n",
            "76473/76473 [==============================] - 860s 11ms/step - loss: 0.2831 - acc: 0.8585 - auc: 0.7225 - val_loss: 1.2523 - val_acc: 0.8485 - val_auc: 0.7243\n",
            "Epoch 9/10\n",
            "76473/76473 [==============================] - 859s 11ms/step - loss: 0.2665 - acc: 0.8671 - auc: 0.7273 - val_loss: 0.5236 - val_acc: 0.8050 - val_auc: 0.7331\n",
            "Epoch 10/10\n",
            "76473/76473 [==============================] - 857s 11ms/step - loss: 0.2511 - acc: 0.8783 - auc: 0.7396 - val_loss: 0.6680 - val_acc: 0.6205 - val_auc: 0.7437\n"
          ],
          "name": "stdout"
        }
      ]
    },
    {
      "cell_type": "code",
      "metadata": {
        "id": "7EF1id8H9w4g",
        "outputId": "a9372fc9-4cd7-4102-ac52-08acf18d2a82"
      },
      "source": [
        "#score = model.evaluate(X_test, y_test) \n",
        "#print('Test score:', score[0]) \n",
        "#print('Test accuracy:', score[1])\n",
        "#print('Test auc:', score[1])\n",
        "\n",
        "fig,ax = plt.subplots(1,1)\n",
        "ax.set_xlabel('epoch') ; ax.set_ylabel('Categorical Crossentropy Loss')\n",
        "epochs=10\n",
        "# list of epoch numbers\n",
        "x = list(range(1,epochs+1))\n",
        "\n",
        "vy = history.history['val_loss']\n",
        "ty = history.history['loss']\n",
        "plt_dynamic(x, vy, ty, ax)"
      ],
      "execution_count": null,
      "outputs": [
        {
          "output_type": "display_data",
          "data": {
            "image/png": "[encoded data removed]",
            "text/plain": [
              "<matplotlib.figure.Figure at 0x7fba3e690550>"
            ]
          },
          "metadata": {
            "tags": []
          }
        }
      ]
    },
    {
      "cell_type": "code",
      "metadata": {
        "collapsed": true,
        "id": "it9oS1aG9w4h"
      },
      "source": [
        "score = model.evaluate([essay_test,clean_categories_test,clean_subcategories_test,school_state_test,\n",
        "                      teacher_prefix_test,project_grade_category_test,num_feat_test],y_test) \n",
        "print('Test score:', score[0]) \n",
        "print('Test accuracy:', score[1])\n",
        "print('Test auc:', score[2])\n",
        "\n",
        "fig,ax = plt.subplots(1,1)\n",
        "ax.set_xlabel('epoch') ; ax.set_ylabel('Categorical Crossentropy Loss')\n",
        "epochs=10\n",
        "# list of epoch numbers\n",
        "x = list(range(1,epochs+1))\n",
        "\n",
        "vy = history.history['val_auc']\n",
        "ty = history.history['auc']\n",
        "plt_dynamic(x, vy, ty, ax)"
      ],
      "execution_count": null,
      "outputs": []
    },
    {
      "cell_type": "markdown",
      "metadata": {
        "id": "4FdItMi19w4i"
      },
      "source": [
        "# Model2"
      ]
    },
    {
      "cell_type": "code",
      "metadata": {
        "collapsed": true,
        "id": "yLi5g4cR9w4j"
      },
      "source": [
        "#https://stackoverflow.com/questions/48431173/is-there-a-way-to-get-only-the-idf-values-of-words-using-scikit-or-any-other-pyt?rq=1\n",
        "tf = TfidfVectorizer(use_idf=True)\n",
        "tf.fit_transform(X_train['essay'].values)\n",
        "idf = tf.idf_ "
      ],
      "execution_count": null,
      "outputs": []
    },
    {
      "cell_type": "code",
      "metadata": {
        "id": "8PCxZSWZ9w4k",
        "outputId": "1c749015-a5ef-482b-aa31-be6d5959ae4a"
      },
      "source": [
        "idf.shape"
      ],
      "execution_count": null,
      "outputs": [
        {
          "output_type": "execute_result",
          "data": {
            "text/plain": [
              "(49096,)"
            ]
          },
          "metadata": {
            "tags": []
          },
          "execution_count": 36
        }
      ]
    },
    {
      "cell_type": "code",
      "metadata": {
        "id": "aOKqJPqC9w4l",
        "outputId": "69bcaf4c-fe41-4a30-d7f6-a528df294e45"
      },
      "source": [
        "import seaborn as sns\n",
        "sns.boxplot(idf)"
      ],
      "execution_count": null,
      "outputs": [
        {
          "output_type": "execute_result",
          "data": {
            "text/plain": [
              "<matplotlib.axes._subplots.AxesSubplot at 0x7fba3c0c96a0>"
            ]
          },
          "metadata": {
            "tags": []
          },
          "execution_count": 37
        },
        {
          "output_type": "display_data",
          "data": {
            "image/png": "[encoded data removed]",
            "text/plain": [
              "<matplotlib.figure.Figure at 0x7fba3e180358>"
            ]
          },
          "metadata": {
            "tags": []
          }
        }
      ]
    },
    {
      "cell_type": "code",
      "metadata": {
        "collapsed": true,
        "id": "w-eONRTt9w4m"
      },
      "source": [
        "sort_idf = sorted(idf)"
      ],
      "execution_count": null,
      "outputs": []
    },
    {
      "cell_type": "code",
      "metadata": {
        "id": "iWIgI0vl9w4n",
        "outputId": "99723e8b-1e0d-4c65-f916-d9d2a0bf8c9c"
      },
      "source": [
        "sort_idf[int (49096/4)]"
      ],
      "execution_count": null,
      "outputs": [
        {
          "output_type": "execute_result",
          "data": {
            "text/plain": [
              "9.536655891662718"
            ]
          },
          "metadata": {
            "tags": []
          },
          "execution_count": 39
        }
      ]
    },
    {
      "cell_type": "code",
      "metadata": {
        "id": "3oJDSRWy9w4o",
        "outputId": "80b32bee-bd02-444f-9012-5f7772fe536a"
      },
      "source": [
        "sort_idf[int (49096*3/4)]"
      ],
      "execution_count": null,
      "outputs": [
        {
          "output_type": "execute_result",
          "data": {
            "text/plain": [
              "11.551558912204982"
            ]
          },
          "metadata": {
            "tags": []
          },
          "execution_count": 40
        }
      ]
    },
    {
      "cell_type": "code",
      "metadata": {
        "collapsed": true,
        "id": "n4VvMPzY9w4o"
      },
      "source": [
        "#https://stackoverflow.com/questions/48431173/is-there-a-way-to-get-only-the-idf-values-of-words-using-scikit-or-any-other-pyt?rq=1\n",
        "tf1 = TfidfVectorizer(use_idf=True,min_df=6,max_df=11.56)\n",
        "tf1.fit_transform(X_train['essay'].values)\n",
        "idf1 = tf1.idf_ "
      ],
      "execution_count": null,
      "outputs": []
    },
    {
      "cell_type": "code",
      "metadata": {
        "collapsed": true,
        "id": "Ospy8Qrh9w4p"
      },
      "source": [
        "vocabulary = tf1.get_feature_names()"
      ],
      "execution_count": null,
      "outputs": []
    },
    {
      "cell_type": "code",
      "metadata": {
        "collapsed": true,
        "id": "bC-1PULJ9w4q"
      },
      "source": [
        "idf_text = []\n",
        "for  sent in X_train['essay'].values:\n",
        "    text = ' '.join(e for e in sent.split() if e in vocabulary)\n",
        "    idf_text.append(text)"
      ],
      "execution_count": null,
      "outputs": []
    },
    {
      "cell_type": "code",
      "metadata": {
        "collapsed": true,
        "id": "l0934_0U9w4r"
      },
      "source": [
        "idf_text1 =idf_text.copy()"
      ],
      "execution_count": null,
      "outputs": []
    },
    {
      "cell_type": "code",
      "metadata": {
        "collapsed": true,
        "id": "LyhKUtAN9w4r"
      },
      "source": [
        "X_train['idf_text'] = idf_text"
      ],
      "execution_count": null,
      "outputs": []
    },
    {
      "cell_type": "code",
      "metadata": {
        "id": "r_UDVtH79w4s",
        "outputId": "89e3e988-1c43-4bc4-c68d-3da7ec37e073"
      },
      "source": [
        "X_train.shape"
      ],
      "execution_count": null,
      "outputs": [
        {
          "output_type": "execute_result",
          "data": {
            "text/plain": [
              "(76473, 9)"
            ]
          },
          "metadata": {
            "tags": []
          },
          "execution_count": 48
        }
      ]
    },
    {
      "cell_type": "code",
      "metadata": {
        "collapsed": true,
        "id": "zLVV9r-b9w4t"
      },
      "source": [
        "import pickle\n",
        "X_train.to_pickle('X_train')"
      ],
      "execution_count": null,
      "outputs": []
    },
    {
      "cell_type": "code",
      "metadata": {
        "collapsed": true,
        "id": "Z0wdhn829w4u"
      },
      "source": [
        "import pickle\n",
        "X_train = load_pickle('X_train')"
      ],
      "execution_count": null,
      "outputs": []
    },
    {
      "cell_type": "code",
      "metadata": {
        "id": "gs99iEPZ9w4u",
        "outputId": "fa89f5a9-09d9-4b28-d6ef-ac47f14591fd"
      },
      "source": [
        "type (X_train['idf_text'][0])"
      ],
      "execution_count": null,
      "outputs": [
        {
          "output_type": "execute_result",
          "data": {
            "text/plain": [
              "str"
            ]
          },
          "metadata": {
            "tags": []
          },
          "execution_count": 50
        }
      ]
    },
    {
      "cell_type": "code",
      "metadata": {
        "id": "w6bgD8HY9w4v",
        "outputId": "66a1a9b0-3fc6-4e54-cbb4-c2365dc1e426"
      },
      "source": [
        "l = max([len (text.split()) for text in X_train['idf_text'].values])\n",
        "print (l)"
      ],
      "execution_count": null,
      "outputs": [
        {
          "output_type": "stream",
          "text": [
            "327\n"
          ],
          "name": "stdout"
        }
      ]
    },
    {
      "cell_type": "code",
      "metadata": {
        "collapsed": true,
        "id": "yUcPGCFn9w4w"
      },
      "source": [
        "from keras.preprocessing.text import Tokenizer\n",
        "tokenizer_essay_idf = Tokenizer()\n",
        "tokenizer_essay_idf.fit_on_texts(X_train['idf_text'].values)\n",
        "\n",
        "essay_idf_train = tokenizer_essay_idf.texts_to_sequences(X_train['idf_text'].values)\n",
        "essay_idf_test = tokenizer_essay_idf.texts_to_sequences(X_test['essay'].values)"
      ],
      "execution_count": null,
      "outputs": []
    },
    {
      "cell_type": "code",
      "metadata": {
        "collapsed": true,
        "id": "VMefBI2T9w4x"
      },
      "source": [
        "from keras.preprocessing import sequence\n",
        "#max_length = max(len1)\n",
        "essay_idf_train = sequence.pad_sequences(essay_idf_train,maxlen=327)\n",
        "essay_idf_test = sequence.pad_sequences(essay_idf_test,maxlen=327)"
      ],
      "execution_count": null,
      "outputs": []
    },
    {
      "cell_type": "code",
      "metadata": {
        "collapsed": true,
        "id": "OaQMnKdx9w4y"
      },
      "source": [
        "from keras.layers import Input, Embedding, LSTM, Dense, Flatten\n",
        "from keras.models import Model\n",
        "#from keras.layers import Dense, Dropout,\n",
        "essay_idf_input = Input(shape=(essay_idf_train.shape[1],), name='essay_idf_input')\n",
        "\n",
        "essay_idf = Embedding(output_dim=64, input_dim=len (tokenizer_essay.word_index)+1, input_length=essay_idf_train.shape[1])(essay_idf_input)\n",
        "\n",
        "lstm_out_idf = LSTM(32, return_sequences = True)(essay_idf)\n",
        "lstm_out_idf = Flatten()(lstm_out_idf)"
      ],
      "execution_count": null,
      "outputs": []
    },
    {
      "cell_type": "code",
      "metadata": {
        "id": "rZZQMmBt9w4z",
        "outputId": "a1456242-7cf8-4ab8-a033-2122be648ebb"
      },
      "source": [
        "from keras.layers import Input, Embedding, LSTM, Dense, Flatten\n",
        "from keras.models import Model\n",
        "import keras\n",
        "from keras.layers import LeakyReLU\n",
        "from keras.layers import Dense, Dropout, BatchNormalization\n",
        "from sklearn.metrics import roc_auc_score\n",
        "import tensorflow as tf\n",
        "import keras.backend as K\n",
        "from sklearn.utils import class_weight\n",
        "from keras.callbacks import Callback\n",
        "from keras.callbacks import ModelCheckpoint\n",
        "\n",
        "\n",
        "class_weight = class_weight.compute_class_weight('balanced'\n",
        "                                               ,np.unique(y_train)\n",
        "                                               ,y_train)\n",
        "\n",
        "'''def auc(y_true, y_pred):\n",
        "    return tf.py_func(roc_auc_score, (y_true, y_pred), tf.double)\n",
        "'''\n",
        "def auc(y_true, y_pred):\n",
        "    auc = tf.metrics.auc(y_true, y_pred)[1]\n",
        "    K.get_session().run(tf.local_variables_initializer())\n",
        "    return auc  \n",
        "best_model = ModelCheckpoint('best_model_donor2.h5', monitor='val_auc', mode='max', verbose=0, save_best_only=True)\n",
        "#from keras.layers import Dense, Dropout,\n",
        "essay_idf_input = Input(shape=(essay_idf_train.shape[1],), name='essay_idf_input')\n",
        "essay_idf = Embedding(output_dim=64, input_dim=len (tokenizer_essay.word_index)+1, input_length=essay_idf_train.shape[1])(essay_idf_input)\n",
        "lstm_out_idf = LSTM(128, return_sequences = True)(essay_idf)\n",
        "lstm_out_idf = Dropout(1-0.8)(lstm_out_idf)\n",
        "lstm_out_idf = Flatten()(lstm_out_idf)\n",
        "\n",
        "clean_categories_input = Input(shape=(clean_categories_train.shape[1],), dtype='int32', name='clean_categories_input')\n",
        "clean_categories = Embedding(output_dim=1, input_dim=len (tokenizer_clean_categories.word_index)+1, input_length=clean_categories_train.shape[1])(clean_categories_input)\n",
        "clean_categories = Flatten()(clean_categories)\n",
        "\n",
        "clean_subcategories_input = Input(shape=(clean_subcategories_train.shape[1],), dtype='int32', name='clean_subcategories_input')\n",
        "clean_subcategories = Embedding(output_dim=1, input_dim=len (tokenizer_clean_subcategories.word_index)+1, input_length=clean_subcategories_train.shape[1])(clean_subcategories_input)\n",
        "clean_subcategories = Flatten()(clean_subcategories)\n",
        "\n",
        "school_state_input = Input(shape=(school_state_train.shape[1],), dtype='int32', name='school_state_input')\n",
        "school_state = Embedding(output_dim=1, input_dim=len (tokenizer_school_state.word_index)+1, input_length=school_state_train.shape[1])(school_state_input)\n",
        "school_state = Flatten()(school_state)\n",
        "\n",
        "teacher_prefix_input = Input(shape=(teacher_prefix_train.shape[1],), dtype='int32', name='teacher_prefix_input')\n",
        "teacher_prefix = Embedding(output_dim=1, input_dim=len (tokenizer_teacher_prefix.word_index)+1, input_length=teacher_prefix_train.shape[1])(teacher_prefix_input)\n",
        "teacher_prefix = Flatten()(teacher_prefix)\n",
        "\n",
        "project_grade_category_input = Input(shape=(project_grade_category_train.shape[1],), dtype='int32', name='project_grade_category_input')\n",
        "project_grade_category = Embedding(output_dim=1, input_dim=len (tokenizer_project_grade_category.word_index)+1, input_length=project_grade_category_train.shape[1])(project_grade_category_input)\n",
        "project_grade_category = Flatten()(project_grade_category)\n",
        "\n",
        "num_feat = Input(shape=(2,),name = 'num_feat')\n",
        "dense_out = Dense(2)(num_feat)\n",
        "#dense_out = Flatten()(dense_out)\n",
        "\n",
        "concat_layer = keras.layers.concatenate([lstm_out_idf,clean_categories,clean_subcategories,\n",
        "                                         school_state,teacher_prefix,project_grade_category,\n",
        "                                         dense_out])\n",
        "model1 = Dense(64,activation='relu',kernel_initializer='he_normal')(concat_layer)\n",
        "model1 = BatchNormalization()(model1)\n",
        "model1 = Dropout(1-0.5)(model1)\n",
        "model1 = Dense(32, activation='relu',kernel_initializer='he_normal')(model1)\n",
        "model1 = Dropout(1-0.5)(model1)\n",
        "model1 = Dense(32, activation='relu',kernel_initializer='he_normal')(model1)\n",
        "\n",
        "main_output = Dense(1, activation='sigmoid', name='main_output')(model1)\n",
        "model = Model(inputs=[essay_idf_input,clean_categories_input,clean_subcategories_input,school_state_input,\n",
        "                      teacher_prefix_input,project_grade_category_input,num_feat], outputs=[main_output])\n",
        "model.compile(optimizer='adam',\n",
        "              loss='binary_crossentropy',\n",
        "              metrics=['accuracy',auc])\n",
        "#model.summary()\n",
        "history = model.fit([essay_idf_train,clean_categories_train,clean_subcategories_train,school_state_train,\n",
        "                      teacher_prefix_train,project_grade_category_train,num_feat_train],y_train,batch_size=128, epochs=10,\n",
        "                   validation_data = ([essay_idf_test,clean_categories_test,clean_subcategories_test,school_state_test,\n",
        "                      teacher_prefix_test,project_grade_category_test,num_feat_test],y_test),class_weight=class_weight)\n",
        "model.save('my_model_donor2.h5')"
      ],
      "execution_count": null,
      "outputs": [
        {
          "output_type": "stream",
          "text": [
            "Train on 76473 samples, validate on 32775 samples\n",
            "Epoch 1/10\n",
            "76473/76473 [==============================] - 1311s 17ms/step - loss: 0.4927 - acc: 0.8240 - auc: 0.5319 - val_loss: 0.4236 - val_acc: 0.8486 - val_auc: 0.5409\n",
            "Epoch 2/10\n",
            "76473/76473 [==============================] - 1304s 17ms/step - loss: 0.4401 - acc: 0.8474 - auc: 0.5458 - val_loss: 0.4243 - val_acc: 0.8486 - val_auc: 0.5474\n",
            "Epoch 3/10\n",
            "76473/76473 [==============================] - 1301s 17ms/step - loss: 0.4298 - acc: 0.8482 - auc: 0.5504 - val_loss: 0.4242 - val_acc: 0.8486 - val_auc: 0.5520\n",
            "Epoch 4/10\n",
            "76473/76473 [==============================] - 1266s 17ms/step - loss: 0.4254 - acc: 0.8485 - auc: 0.5540 - val_loss: 0.4217 - val_acc: 0.8486 - val_auc: 0.5555\n",
            "Epoch 5/10\n",
            "76473/76473 [==============================] - 1216s 16ms/step - loss: 0.4241 - acc: 0.8485 - auc: 0.5568 - val_loss: 0.4207 - val_acc: 0.8486 - val_auc: 0.5581\n",
            "Epoch 6/10\n",
            "76473/76473 [==============================] - 1247s 16ms/step - loss: 0.4220 - acc: 0.8486 - auc: 0.5595 - val_loss: 0.4202 - val_acc: 0.8486 - val_auc: 0.5606\n",
            "Epoch 7/10\n",
            "76473/76473 [==============================] - 1232s 16ms/step - loss: 0.4202 - acc: 0.8486 - auc: 0.5621 - val_loss: 0.4202 - val_acc: 0.8486 - val_auc: 0.5633\n",
            "Epoch 8/10\n",
            "76473/76473 [==============================] - 1250s 16ms/step - loss: 0.4198 - acc: 0.8486 - auc: 0.5647 - val_loss: 0.4181 - val_acc: 0.8486 - val_auc: 0.5657\n",
            "Epoch 9/10\n",
            "76473/76473 [==============================] - 1235s 16ms/step - loss: 0.4185 - acc: 0.8485 - auc: 0.5671 - val_loss: 0.4186 - val_acc: 0.8486 - val_auc: 0.5680\n",
            "Epoch 10/10\n",
            "76473/76473 [==============================] - 1270s 17ms/step - loss: 0.4180 - acc: 0.8486 - auc: 0.5691 - val_loss: 0.4171 - val_acc: 0.8486 - val_auc: 0.5704\n"
          ],
          "name": "stdout"
        }
      ]
    },
    {
      "cell_type": "code",
      "metadata": {
        "id": "N17FWWcT9w40",
        "outputId": "29fd8398-2814-4935-8cb1-3fb2f8c36ecf"
      },
      "source": [
        "#score = model.evaluate(X_test, y_test) \n",
        "#print('Test score:', score[0]) \n",
        "#print('Test accuracy:', score[1])\n",
        "#print('Test auc:', score[1])\n",
        "\n",
        "fig,ax = plt.subplots(1,1)\n",
        "ax.set_xlabel('epoch') ; ax.set_ylabel('Categorical Crossentropy Loss')\n",
        "epochs=10\n",
        "# list of epoch numbers\n",
        "x = list(range(1,epochs+1))\n",
        "\n",
        "vy = history.history['val_loss']\n",
        "ty = history.history['loss']\n",
        "plt_dynamic(x, vy, ty, ax)"
      ],
      "execution_count": null,
      "outputs": [
        {
          "output_type": "display_data",
          "data": {
            "image/png": "[encoded data removed]",
            "text/plain": [
              "<matplotlib.figure.Figure at 0x7fba3c938f98>"
            ]
          },
          "metadata": {
            "tags": []
          }
        }
      ]
    },
    {
      "cell_type": "code",
      "metadata": {
        "id": "KTi2djJj9w41",
        "outputId": "8319790b-b16f-44cc-d8fa-37e0ed3358f5"
      },
      "source": [
        "score = model.evaluate([essay_idf_test,clean_categories_test,clean_subcategories_test,school_state_test,\n",
        "                      teacher_prefix_test,project_grade_category_test,num_feat_test],y_test) \n",
        "print('Test score:', score[0]) \n",
        "print('Test accuracy:', score[1])\n",
        "print('Test auc:', score[2])\n",
        "\n",
        "fig,ax = plt.subplots(1,1)\n",
        "ax.set_xlabel('epoch') ; ax.set_ylabel('Categorical Crossentropy Loss')\n",
        "epochs=10\n",
        "# list of epoch numbers\n",
        "x = list(range(1,epochs+1))\n",
        "\n",
        "vy = history.history['val_auc']\n",
        "ty = history.history['auc']\n",
        "plt_dynamic(x, vy, ty, ax)"
      ],
      "execution_count": null,
      "outputs": [
        {
          "output_type": "stream",
          "text": [
            "32775/32775 [==============================] - 133s 4ms/step\n",
            "Test score: 0.41710273124624264\n",
            "Test accuracy: 0.8485736079328756\n",
            "Test auc: 0.5711375111827952\n"
          ],
          "name": "stdout"
        },
        {
          "output_type": "display_data",
          "data": {
            "image/png": "[encoded data removed]",
            "text/plain": [
              "<matplotlib.figure.Figure at 0x7fba35e68358>"
            ]
          },
          "metadata": {
            "tags": []
          }
        }
      ]
    },
    {
      "cell_type": "markdown",
      "metadata": {
        "id": "GO4m0T769w43"
      },
      "source": [
        "# MODEL3"
      ]
    },
    {
      "cell_type": "code",
      "metadata": {
        "collapsed": true,
        "id": "uGu90gFT9w43"
      },
      "source": [
        "import pickle\n",
        "import pandas as pd\n",
        "glo_vec = pd.read_pickle('glove_vectors')"
      ],
      "execution_count": null,
      "outputs": []
    },
    {
      "cell_type": "code",
      "metadata": {
        "collapsed": true,
        "id": "SB-xYZir9w44"
      },
      "source": [
        "word_index = tokenizer_essay.word_index"
      ],
      "execution_count": null,
      "outputs": []
    },
    {
      "cell_type": "code",
      "metadata": {
        "collapsed": true,
        "id": "aLkvVjYs9w45"
      },
      "source": [
        "#https://blog.keras.io/using-pre-trained-word-embeddings-in-a-keras-model.html\n",
        "#https://machinelearningmastery.com/use-word-embedding-layers-deep-learning-keras/\n",
        "EMBEDDING_DIM = 300\n",
        "embedding_matrix = np.zeros((len(word_index) + 1, EMBEDDING_DIM))\n",
        "for word, i in word_index.items():\n",
        "    embedding_vector = glo_vec.get(word)\n",
        "    if embedding_vector is not None:\n",
        "        # words not found in embedding index will be all-zeros.\n",
        "        embedding_matrix[i] = embedding_vector"
      ],
      "execution_count": null,
      "outputs": []
    },
    {
      "cell_type": "code",
      "metadata": {
        "collapsed": true,
        "id": "I06GOdqa9w46"
      },
      "source": [
        "from keras.layers import Embedding\n",
        "EMBEDDING_DIM = 300\n",
        "MAX_SEQUENCE_LENGTH = 331\n",
        "embedding_layer = Embedding(len(word_index) + 1,\n",
        "                            EMBEDDING_DIM,\n",
        "                            weights=[embedding_matrix],\n",
        "                            input_length=MAX_SEQUENCE_LENGTH,\n",
        "                            trainable=False)"
      ],
      "execution_count": null,
      "outputs": []
    },
    {
      "cell_type": "code",
      "metadata": {
        "id": "YKhBbMY19w47",
        "outputId": "6a9015a9-95e6-4646-b61c-f8e5c4e4dc82"
      },
      "source": [
        "X_train.columns"
      ],
      "execution_count": null,
      "outputs": [
        {
          "output_type": "execute_result",
          "data": {
            "text/plain": [
              "Index(['school_state', 'teacher_prefix', 'project_grade_category',\n",
              "       'teacher_number_of_previously_posted_projects', 'clean_categories',\n",
              "       'clean_subcategories', 'essay', 'price'],\n",
              "      dtype='object')"
            ]
          },
          "metadata": {
            "tags": []
          },
          "execution_count": 22
        }
      ]
    },
    {
      "cell_type": "code",
      "metadata": {
        "collapsed": true,
        "id": "DQggRWWk9w47"
      },
      "source": [
        "school_state = CountVectorizer()\n",
        "school_state_train = school_state.fit_transform(X_train['school_state'].values)\n",
        "school_state_test = school_state.transform(X_test['school_state'].values)"
      ],
      "execution_count": null,
      "outputs": []
    },
    {
      "cell_type": "code",
      "metadata": {
        "collapsed": true,
        "id": "MRfs8-9A9w48"
      },
      "source": [
        "teacher_prefix = CountVectorizer()\n",
        "teacher_prefix_train = teacher_prefix.fit_transform(X_train['teacher_prefix'].values)\n",
        "teacher_prefix_test = teacher_prefix.transform(X_test['teacher_prefix'].values)"
      ],
      "execution_count": null,
      "outputs": []
    },
    {
      "cell_type": "code",
      "metadata": {
        "collapsed": true,
        "id": "kDy2TAHZ9w49"
      },
      "source": [
        "project_grade_category = CountVectorizer()\n",
        "project_grade_category_train = project_grade_category.fit_transform(X_train['project_grade_category'].values)\n",
        "project_grade_category_test = project_grade_category.transform(X_test['project_grade_category'].values)"
      ],
      "execution_count": null,
      "outputs": []
    },
    {
      "cell_type": "code",
      "metadata": {
        "collapsed": true,
        "id": "MzrdH15k9w4-"
      },
      "source": [
        "clean_categories = CountVectorizer()\n",
        "clean_categories_train = clean_categories.fit_transform(X_train['clean_categories'].values)\n",
        "clean_categories_test = clean_categories.transform(X_test['clean_categories'].values)"
      ],
      "execution_count": null,
      "outputs": []
    },
    {
      "cell_type": "code",
      "metadata": {
        "collapsed": true,
        "id": "G29gR1OU9w4-"
      },
      "source": [
        "clean_subcategories = CountVectorizer()\n",
        "clean_subcategories_train = clean_subcategories.fit_transform(X_train['clean_subcategories'].values)\n",
        "clean_subcategories_test = clean_subcategories.transform(X_test['clean_subcategories'].values)"
      ],
      "execution_count": null,
      "outputs": []
    },
    {
      "cell_type": "code",
      "metadata": {
        "collapsed": true,
        "id": "Baf7Kuq_9w4_"
      },
      "source": [
        "from scipy.sparse import hstack\n",
        "stack_data = hstack((school_state_train,teacher_prefix_train,project_grade_category_train,clean_categories_train,\n",
        "                     clean_subcategories_train,X_train[['price','teacher_number_of_previously_posted_projects']])).tocsr()"
      ],
      "execution_count": null,
      "outputs": []
    },
    {
      "cell_type": "code",
      "metadata": {
        "collapsed": true,
        "id": "CipXnyKc9w5A"
      },
      "source": [
        "stack_data_test = hstack((school_state_test,teacher_prefix_test,project_grade_category_test,clean_categories_test,\n",
        "                     clean_subcategories_test,X_test[['price','teacher_number_of_previously_posted_projects']])).tocsr()"
      ],
      "execution_count": null,
      "outputs": []
    },
    {
      "cell_type": "code",
      "metadata": {
        "collapsed": true,
        "id": "EOov7RcR9w5B"
      },
      "source": [
        "from scipy.sparse import csr_matrix\n",
        "stack_data1 = stack_data_test.toarray()\n",
        "stack_data_test = np.expand_dims(stack_data1,2)"
      ],
      "execution_count": null,
      "outputs": []
    },
    {
      "cell_type": "code",
      "metadata": {
        "id": "Q3qVqLbd9w5B",
        "outputId": "ccb1587e-2ce1-4061-877c-1fa8ba0329d5"
      },
      "source": [
        "stack_data_test.shape"
      ],
      "execution_count": null,
      "outputs": [
        {
          "output_type": "execute_result",
          "data": {
            "text/plain": [
              "(32775, 101, 1)"
            ]
          },
          "metadata": {
            "tags": []
          },
          "execution_count": 122
        }
      ]
    },
    {
      "cell_type": "code",
      "metadata": {
        "collapsed": true,
        "id": "hbCX6F_e9w5C"
      },
      "source": [
        "from scipy.sparse import csr_matrix\n",
        "stack_data1 = stack_data.toarray()\n",
        "stack_data2 = np.expand_dims(stack_data1,2)"
      ],
      "execution_count": null,
      "outputs": []
    },
    {
      "cell_type": "code",
      "metadata": {
        "id": "KPJELpcC9w5D",
        "outputId": "ee0567ef-9af2-49ba-8c0f-8657db9ed5b5"
      },
      "source": [
        "from keras.layers import Input, Embedding, LSTM, Dense, Flatten\n",
        "from keras.models import Model\n",
        "import keras.backend as K\n",
        "from sklearn.utils import class_weight\n",
        "from keras.callbacks import Callback\n",
        "from keras.callbacks import ModelCheckpoint\n",
        "\n",
        "\n",
        "class_weight = class_weight.compute_class_weight('balanced'\n",
        "                                               ,np.unique(y_train)\n",
        "                                               ,y_train)\n",
        "\n",
        "'''def auc(y_true, y_pred):\n",
        "    return tf.py_func(roc_auc_score, (y_true, y_pred), tf.double)\n",
        "'''\n",
        "def auc(y_true, y_pred):\n",
        "    auc = tf.metrics.auc(y_true, y_pred)[1]\n",
        "    K.get_session().run(tf.local_variables_initializer())\n",
        "    return auc  \n",
        "best_model = ModelCheckpoint('best_model_donor3.h5', monitor='val_auc', mode='max', verbose=0, save_best_only=True)\n",
        "\n",
        "#essay_input = Input(shape=(essay_train.shape[1],), name='essay_input')\n",
        "#essay = Embedding(output_dim=64, input_dim=len (tokenizer_essay.word_index)+1, input_length=essay_train.shape[1])(essay_input)\n",
        "essay_input = Input(shape=(MAX_SEQUENCE_LENGTH,), dtype='int32',name='essay_input')\n",
        "essay = embedding_layer(essay_input)\n",
        "lstm_out = LSTM(128, return_sequences = True)(essay)\n",
        "#lstm_out = Dropout(1-0.8)(lstm_out)\n",
        "lstm_out = Flatten()(lstm_out)\n",
        "\n",
        "dense_input = Input(shape=(101,1),name = 'num_feat')\n",
        "dense_input1 = Conv1D(64,kernel_size=(4))(dense_input)\n",
        "dense_out = Conv1D(64,kernel_size=(4))(dense_input1)\n",
        "dense_out = Flatten()(dense_out)\n",
        "\n",
        "concat_layer = keras.layers.concatenate([lstm_out,dense_out])\n",
        "\n",
        "model1 = Dense(64)(concat_layer)\n",
        "model1 = Dropout(1-0.8)(model1)\n",
        "model1 = Dense(32)(model1)\n",
        "model1 = Dropout(1-0.8)(model1)\n",
        "model1 = Dense(32)(model1)\n",
        "\n",
        "main_output = Dense(1, activation='sigmoid', name='main_output')(model1)\n",
        "#model.summary()\n",
        "\n",
        "model = Model(inputs=[essay_input,dense_input], outputs=[main_output])\n",
        "\n",
        "model.compile(optimizer='adam',\n",
        "              loss='binary_crossentropy',\n",
        "              metrics=['accuracy',auc])\n",
        "\n",
        "model.save('my_model_donor3.h5')\n",
        "model.fit([essay_train,stack_data2],y_train,batch_size=64, epochs=10,validation_data=([essay_test,stack_data_test],y_test),\n",
        "          class_weight=class_weight,callbacks=[best_model])"
      ],
      "execution_count": null,
      "outputs": [
        {
          "output_type": "stream",
          "text": [
            "Train on 76473 samples, validate on 32775 samples\n",
            "Epoch 1/10\n",
            "76473/76473 [==============================] - 1910s 25ms/step - loss: 2.4141 - acc: 0.8480 - auc: 0.4986 - val_loss: 2.4141 - val_acc: 0.8486 - val_auc: 0.4998\n",
            "Epoch 2/10\n",
            "76473/76473 [==============================] - 1888s 25ms/step - loss: 2.4139 - acc: 0.8486 - auc: 0.4999 - val_loss: 2.4141 - val_acc: 0.8486 - val_auc: 0.4999\n",
            "Epoch 3/10\n",
            "76473/76473 [==============================] - 1884s 25ms/step - loss: 2.4139 - acc: 0.8486 - auc: 0.4999 - val_loss: 2.4141 - val_acc: 0.8486 - val_auc: 0.4999\n",
            "Epoch 4/10\n",
            "76473/76473 [==============================] - 1884s 25ms/step - loss: 2.4139 - acc: 0.8486 - auc: 0.4999 - val_loss: 2.4141 - val_acc: 0.8486 - val_auc: 0.5000\n",
            "Epoch 5/10\n",
            "76473/76473 [==============================] - 1886s 25ms/step - loss: 2.4139 - acc: 0.8486 - auc: 0.5000 - val_loss: 2.4141 - val_acc: 0.8486 - val_auc: 0.5000\n",
            "Epoch 6/10\n",
            "76473/76473 [==============================] - 1909s 25ms/step - loss: 2.4139 - acc: 0.8486 - auc: 0.5000 - val_loss: 2.4141 - val_acc: 0.8486 - val_auc: 0.5000\n",
            "Epoch 7/10\n",
            "76473/76473 [==============================] - 1902s 25ms/step - loss: 2.4139 - acc: 0.8486 - auc: 0.5000 - val_loss: 2.4141 - val_acc: 0.8486 - val_auc: 0.5000\n",
            "Epoch 8/10\n",
            "76473/76473 [==============================] - 1902s 25ms/step - loss: 2.4139 - acc: 0.8486 - auc: 0.5000 - val_loss: 2.4141 - val_acc: 0.8486 - val_auc: 0.5000\n",
            "Epoch 9/10\n",
            "76473/76473 [==============================] - 1905s 25ms/step - loss: 2.4139 - acc: 0.8486 - auc: 0.5000 - val_loss: 2.4141 - val_acc: 0.8486 - val_auc: 0.5000\n",
            "Epoch 10/10\n",
            "76473/76473 [==============================] - 1900s 25ms/step - loss: 2.4139 - acc: 0.8486 - auc: 0.5000 - val_loss: 2.4141 - val_acc: 0.8486 - val_auc: 0.5000\n"
          ],
          "name": "stdout"
        },
        {
          "output_type": "execute_result",
          "data": {
            "text/plain": [
              "<keras.callbacks.History at 0x7fba34f1d390>"
            ]
          },
          "metadata": {
            "tags": []
          },
          "execution_count": 125
        }
      ]
    },
    {
      "cell_type": "code",
      "metadata": {
        "id": "auQnWQpf9w5E",
        "outputId": "e6afb483-12a9-4911-f8fb-dca96416be3c"
      },
      "source": [
        "stack_data1.shape"
      ],
      "execution_count": null,
      "outputs": [
        {
          "output_type": "execute_result",
          "data": {
            "text/plain": [
              "(76473, 101)"
            ]
          },
          "metadata": {
            "tags": []
          },
          "execution_count": 86
        }
      ]
    },
    {
      "cell_type": "code",
      "metadata": {
        "id": "35f7J-SD9w5F",
        "outputId": "0b45f093-d777-4c80-f798-b9a422fd3a91"
      },
      "source": [
        "from prettytable import PrettyTable \n",
        "x = PrettyTable()\n",
        "\n",
        "x.field_names = ['MODEL','trai_loss','train_acc','train_auc','test_loss','test_acc','test_auc']\n",
        "x.add_row(['model1','0.2414','0.8921','0.7078','1.1','0.8481','0.711'])\n",
        "x.add_row(['model2','0.41','0.8486','0.57','0.4171','0.8486','0.51'])\n",
        "x.add_row(['model3','2.41','00.84860','0.5','2.4141','0.8486','0.5'])\n",
        "\n",
        "\n",
        "print (x)"
      ],
      "execution_count": null,
      "outputs": [
        {
          "output_type": "stream",
          "text": [
            "+--------+-----------+-----------+-----------+-----------+----------+----------+\n",
            "| MODEL  | trai_loss | train_acc | train_auc | test_loss | test_acc | test_auc |\n",
            "+--------+-----------+-----------+-----------+-----------+----------+----------+\n",
            "| model1 |   0.2414  |   0.8921  |   0.7078  |    1.1    |  0.8481  |  0.711   |\n",
            "| model2 |    0.41   |   0.8486  |    0.57   |   0.4171  |  0.8486  |   0.51   |\n",
            "| model3 |    2.41   |  00.84860 |    0.5    |   2.4141  |  0.8486  |   0.5    |\n",
            "+--------+-----------+-----------+-----------+-----------+----------+----------+\n"
          ],
          "name": "stdout"
        }
      ]
    }
  ]
}